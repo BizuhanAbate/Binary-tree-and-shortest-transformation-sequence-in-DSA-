{
  "nbformat": 4,
  "nbformat_minor": 0,
  "metadata": {
    "colab": {
      "provenance": []
    },
    "kernelspec": {
      "name": "python3",
      "display_name": "Python 3"
    },
    "language_info": {
      "name": "python"
    }
  },
  "cells": [
    {
      "cell_type": "code",
      "source": [
        "from collections import deque"
      ],
      "metadata": {
        "id": "cOInEBQAxt7T"
      },
      "execution_count": 22,
      "outputs": []
    },
    {
      "cell_type": "code",
      "source": [
        "class TreeNode:\n",
        "    def __init__(self, val=0, left=None, right=None):\n",
        "        self.val = val\n",
        "        self.left = left\n",
        "        self.right = right"
      ],
      "metadata": {
        "id": "4pEiTSDyyE5H"
      },
      "execution_count": 36,
      "outputs": []
    },
    {
      "cell_type": "code",
      "source": [
        "#Function to return the maximum width of the given tree, which is the maximum width among all levels, given the root of a binary tree.\n",
        "def widthOfBinaryTree(root: TreeNode) -> int:\n",
        "    if not root:\n",
        "        return 0\n",
        "\n",
        "    # Queue will store tuples of node and its index at the current level\n",
        "    queue = deque([(root, 0)])\n",
        "    max_width = 0\n",
        "\n",
        "    while queue:\n",
        "        level_length = len(queue)\n",
        "        _, first_index = queue[0]  # Index of the first node at the current level\n",
        "        for _ in range(level_length):\n",
        "            node, index = queue.popleft()\n",
        "            if node.left:\n",
        "                queue.append((node.left, 2 * index))\n",
        "            if node.right:\n",
        "                queue.append((node.right, 2 * index + 1))\n",
        "\n",
        "        # Calculate width of the current level\n",
        "        current_width = index - first_index + 1\n",
        "        if current_width > max_width:\n",
        "            max_width = current_width\n",
        "\n",
        "    return max_width\n",
        "\n",
        "# Function to build the tree from the list representation\n",
        "def build_tree(values):\n",
        "    # Constraint 1: The number of nodes in the tree should be between 1 and 3000\n",
        "    if not (1 <= len(values) <= 3000):\n",
        "        raise ValueError(\"Number of nodes should be between 1 and 3000.\")\n",
        "\n",
        "    # Constraint 2: Node values should be between -100 and 100\n",
        "    if not all((val is None or -100 <= val <= 100) for val in values):\n",
        "        raise ValueError(\"Node values must be between -100 and 100.\")\n",
        "\n",
        "\n",
        "    if not values:\n",
        "        return None\n",
        "    root = TreeNode(values[0])\n",
        "    queue = deque([root])\n",
        "    index = 1\n",
        "    while index < len(values):\n",
        "        node = queue.popleft()\n",
        "        if values[index] is not None:\n",
        "            node.left = TreeNode(values[index])\n",
        "            queue.append(node.left)\n",
        "        index += 1\n",
        "        if index < len(values) and values[index] is not None:\n",
        "            node.right = TreeNode(values[index])\n",
        "            queue.append(node.right)\n",
        "        index += 1\n",
        "    return root\n",
        "\n",
        "root_values = [1, 3, 2, 5, None, None, 9, 6, None, 7]\n",
        "\n",
        "# Calling the functions\n",
        "root = build_tree(root_values)\n",
        "max_width = widthOfBinaryTree(root)\n",
        "print(f\"Output: {max_width}\")\n"
      ],
      "metadata": {
        "colab": {
          "base_uri": "https://localhost:8080/"
        },
        "id": "aHMGlkjy-arq",
        "outputId": "dece48a8-e1d5-4a0b-bafe-19662234933c"
      },
      "execution_count": 24,
      "outputs": [
        {
          "output_type": "stream",
          "name": "stdout",
          "text": [
            "Output: 7\n"
          ]
        }
      ]
    },
    {
      "cell_type": "code",
      "source": [
        "#Function to return the maximum path sum of any non-empty path, given the root of a binary tree.\n",
        "def maxPathSum(root):\n",
        "    def helper(node):\n",
        "        nonlocal max_sum\n",
        "        if not node:\n",
        "            return 0\n",
        "\n",
        "        # Compute maximum path sum including left and right children\n",
        "        left_sum = helper(node.left)\n",
        "        right_sum = helper(node.right)\n",
        "\n",
        "        # Current path sum including this node\n",
        "        current_sum = node.val + left_sum + right_sum\n",
        "\n",
        "        # Update global maximum\n",
        "        max_sum = max(max_sum, current_sum)\n",
        "\n",
        "        # Return maximum gain if continuing the path through this node\n",
        "        return node.val\n",
        "\n",
        "    max_sum = float('-inf')\n",
        "    helper(root)\n",
        "    return max_sum\n",
        "\n",
        "# function to validate tree input constraints\n",
        "def validate_tree_input(root):\n",
        "    def count_nodes(node):\n",
        "        if not node:\n",
        "            return 0\n",
        "        return 1 + count_nodes(node.left) + count_nodes(node.right)\n",
        "\n",
        "    def validate_node_values(node):\n",
        "        if not node:\n",
        "            return True\n",
        "        if not (-1000 <= node.val <= 1000):\n",
        "            return False\n",
        "        return validate_node_values(node.left) and validate_node_values(node.right)\n",
        "\n",
        "    # Constraint 1: Number of nodes in the range [1, 3 * 10^4]\n",
        "    total_nodes = count_nodes(root)\n",
        "    if total_nodes < 1 or total_nodes > 30000:\n",
        "        raise ValueError(\"The number of nodes must be in the range [1, 30000].\")\n",
        "\n",
        "    # Constraint 2: Node values in the range [-1000, 1000]\n",
        "    if not validate_node_values(root):\n",
        "        raise ValueError(\"Node values must be in the range [-1000, 1000].\")\n",
        "\n",
        "# Example\n",
        "root = TreeNode(-10)\n",
        "root.left = TreeNode(9)\n",
        "root.right = TreeNode(20)\n",
        "root.left.left = None\n",
        "root.left.right = None\n",
        "root.right.left = TreeNode(15)\n",
        "root.right.right = TreeNode(7)\n",
        "\n",
        "# Validate the input tree based on the given constraints\n",
        "validate_tree_input(root)\n",
        "\n",
        "# Calling the function\n",
        "print(f\"Output: {maxPathSum(root)}\")\n"
      ],
      "metadata": {
        "colab": {
          "base_uri": "https://localhost:8080/"
        },
        "id": "9p0URk509MwU",
        "outputId": "f423601b-f18d-440a-fee5-26e49f98eebb"
      },
      "execution_count": 49,
      "outputs": [
        {
          "output_type": "stream",
          "name": "stdout",
          "text": [
            "Output: 42\n"
          ]
        }
      ]
    },
    {
      "cell_type": "code",
      "source": [
        "#Function to return the number of words in the shortest transformation sequence from beginWord to endWord,\n",
        "# given two words, beginWord and endWord, and a dictionary wordList.\n",
        "def ladderLength(beginWord, endWord, wordList):\n",
        "    # If the endWord is not in the wordList, return 0\n",
        "    if (endWord not in wordList or beginWord in wordList):\n",
        "        return 0\n",
        "\n",
        "    # Initialize BFS\n",
        "    queue = deque([(beginWord, 1)])  # (word, distance)\n",
        "    visited = set()\n",
        "    visited.add(beginWord)\n",
        "\n",
        "    # Process the queue\n",
        "    while queue:\n",
        "        current_word, length = queue.popleft()\n",
        "\n",
        "        # Try all possible single letter transformations\n",
        "        for i in range(len(current_word)):\n",
        "            for char in 'abcdefghijklmnopqrstuvwxyz':\n",
        "                transformed_word = current_word[:i] + char + current_word[i+1:]\n",
        "\n",
        "                # If we find the endWord, return the length\n",
        "                if transformed_word == endWord:\n",
        "                    return length + 1\n",
        "\n",
        "                # If transformed_word is valid and not visited, add it to the queue\n",
        "                if transformed_word in wordList and transformed_word not in visited:\n",
        "                    visited.add(transformed_word)\n",
        "                    queue.append((transformed_word, length + 1))\n",
        "\n",
        "    return 0  # If no transformation sequence exists\n",
        "\n",
        "# Example\n",
        "\n",
        "beginWord = \"hit\"\n",
        "endWord = \"cog\"\n",
        "wordList = [\"hot\",\"dot\",\"dog\",\"lot\",\"log\",\"cog\"]\n",
        "print(ladderLength(beginWord, endWord, wordList))\n",
        "\n",
        "beginWord = \"hit\"\n",
        "endWord = \"mol\"\n",
        "wordList = [\"lit\", \"lot\", \"set\", \"sot\", \"rot\", \"rol\", \"mol\"]\n",
        "print(ladderLength(beginWord, endWord, wordList))"
      ],
      "metadata": {
        "colab": {
          "base_uri": "https://localhost:8080/"
        },
        "id": "FukFVg_thejj",
        "outputId": "227e6ba2-f45a-4a9d-f628-614f6ebd42cf"
      },
      "execution_count": 26,
      "outputs": [
        {
          "output_type": "stream",
          "name": "stdout",
          "text": [
            "5\n",
            "6\n"
          ]
        }
      ]
    }
  ]
}